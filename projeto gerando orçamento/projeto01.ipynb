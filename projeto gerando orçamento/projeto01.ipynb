{
 "cells": [
  {
   "cell_type": "markdown",
   "metadata": {},
   "source": [
    "##Projeto Orçamento"
   ]
  },
  {
   "cell_type": "code",
   "execution_count": 9,
   "metadata": {},
   "outputs": [],
   "source": [
    "project       = input(\"Descreva o Projeto: \")\n",
    "expectedHours = input(\"Digita a quantidade de horas previstas: \")\n",
    "priceHour     = input(\"Digite o valor da hora cobrada: \")\n",
    "term          = input(\"Digite o prazo estimado: \")\n",
    "amount        =  int(expectedHours) * int(priceHour)\n",
    "                "
   ]
  },
  {
   "cell_type": "markdown",
   "metadata": {},
   "source": [
    "#Gerar PDF"
   ]
  },
  {
   "cell_type": "code",
   "execution_count": null,
   "metadata": {},
   "outputs": [
    {
     "name": "stdout",
     "output_type": "stream",
     "text": [
      "Collecting fpdf\n",
      "  Downloading fpdf-1.7.2.tar.gz (39 kB)\n",
      "  Installing build dependencies: started\n",
      "  Installing build dependencies: finished with status 'done'\n",
      "  Getting requirements to build wheel: started\n",
      "  Getting requirements to build wheel: finished with status 'done'\n",
      "  Preparing metadata (pyproject.toml): started\n",
      "  Preparing metadata (pyproject.toml): finished with status 'done'\n",
      "Building wheels for collected packages: fpdf\n",
      "  Building wheel for fpdf (pyproject.toml): started\n",
      "  Building wheel for fpdf (pyproject.toml): finished with status 'done'\n",
      "  Created wheel for fpdf: filename=fpdf-1.7.2-py2.py3-none-any.whl size=40714 sha256=fd149c5deb7b971b4a6dce530a4d1bbe9cbc5eebd5d9839cdccef441906edd5e\n",
      "  Stored in directory: c:\\users\\leodu\\appdata\\local\\pip\\cache\\wheels\\6e\\62\\11\\dc73d78e40a218ad52e7451f30166e94491be013a7850b5d75\n",
      "Successfully built fpdf\n",
      "Installing collected packages: fpdf\n",
      "Successfully installed fpdf-1.7.2\n"
     ]
    },
    {
     "name": "stderr",
     "output_type": "stream",
     "text": [
      "\n",
      "[notice] A new release of pip is available: 24.0 -> 24.2\n",
      "[notice] To update, run: python.exe -m pip install --upgrade pip\n"
     ]
    }
   ],
   "source": [
    "!pip install fpdf"
   ]
  },
  {
   "cell_type": "code",
   "execution_count": 3,
   "metadata": {},
   "outputs": [],
   "source": [
    "from fpdf import FPDF"
   ]
  },
  {
   "cell_type": "code",
   "execution_count": 10,
   "metadata": {},
   "outputs": [
    {
     "data": {
      "text/plain": [
       "''"
      ]
     },
     "execution_count": 10,
     "metadata": {},
     "output_type": "execute_result"
    }
   ],
   "source": [
    "pdf = FPDF()\n",
    "\n",
    "pdf.add_page()\n",
    "pdf.set_font(\"Arial\")\n",
    "\n",
    "pdf.image(\"template.png\", x=0, y=0)\n",
    "\n",
    "pdf.text(115, 145, project)\n",
    "pdf.text(115, 160, expectedHours)\n",
    "pdf.text(115, 175, priceHour)\n",
    "pdf.text(115, 190, term)\n",
    "pdf.text(115, 205, str(amount))\n",
    "\n",
    "pdf.output(\"Orçamento.pdf\")"
   ]
  }
 ],
 "metadata": {
  "kernelspec": {
   "display_name": "Python 3",
   "language": "python",
   "name": "python3"
  },
  "language_info": {
   "codemirror_mode": {
    "name": "ipython",
    "version": 3
   },
   "file_extension": ".py",
   "mimetype": "text/x-python",
   "name": "python",
   "nbconvert_exporter": "python",
   "pygments_lexer": "ipython3",
   "version": "3.12.3"
  }
 },
 "nbformat": 4,
 "nbformat_minor": 2
}
